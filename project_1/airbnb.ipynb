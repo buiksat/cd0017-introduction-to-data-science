{
 "cells": [
  {
   "cell_type": "markdown",
   "metadata": {},
   "source": [
    "<h2 id='part1'> Airbnb data analysis: Seattle vs. Boston </h2>\n",
    "\n",
    "In this project we’ll use the Seattle airbnb listing from Seattle Airbnb Open Data\n",
    "in Kaggle. To understand how much Airbnb homes are earning in certain time frames and areas\n",
    " we build a model of rates in the different areas, and compare with the dataset from Airbnb in Boston. We also compare rates between the two cities, and understand if there is anything about the properties that helps us to predict price. We investigate negative and positive reviews based on the text.\n",
    "\n",
    "First we read the data and have look at the attributes for airbnb listing in Seattle."
   ]
  },
  {
   "cell_type": "code",
   "execution_count": 3,
   "metadata": {},
   "outputs": [
    {
     "data": {
      "text/plain": "        id                           listing_url       scrape_id last_scraped  \\\n0   241032   https://www.airbnb.com/rooms/241032  20160104002432   2016-01-04   \n1   953595   https://www.airbnb.com/rooms/953595  20160104002432   2016-01-04   \n2  3308979  https://www.airbnb.com/rooms/3308979  20160104002432   2016-01-04   \n3  7421966  https://www.airbnb.com/rooms/7421966  20160104002432   2016-01-04   \n4   278830   https://www.airbnb.com/rooms/278830  20160104002432   2016-01-04   \n\n                                  name  \\\n0         Stylish Queen Anne Apartment   \n1   Bright & Airy Queen Anne Apartment   \n2  New Modern House-Amazing water view   \n3                   Queen Anne Chateau   \n4       Charming craftsman 3 bdm house   \n\n                                             summary  \\\n0                                                NaN   \n1  Chemically sensitive? We've removed the irrita...   \n2  New modern house built in 2013.  Spectacular s...   \n3  A charming apartment that sits atop Queen Anne...   \n4  Cozy family craftman house in beautiful neighb...   \n\n                                               space  \\\n0  Make your self at home in this charming one-be...   \n1  Beautiful, hypoallergenic apartment in an extr...   \n2  Our house is modern, light and fresh with a wa...   \n3                                                NaN   \n4  Cozy family craftman house in beautiful neighb...   \n\n                                         description experiences_offered  \\\n0  Make your self at home in this charming one-be...                none   \n1  Chemically sensitive? We've removed the irrita...                none   \n2  New modern house built in 2013.  Spectacular s...                none   \n3  A charming apartment that sits atop Queen Anne...                none   \n4  Cozy family craftman house in beautiful neighb...                none   \n\n                               neighborhood_overview  ... review_scores_value  \\\n0                                                NaN  ...                10.0   \n1  Queen Anne is a wonderful, truly functional vi...  ...                10.0   \n2  Upper Queen Anne is a charming neighborhood fu...  ...                10.0   \n3                                                NaN  ...                 NaN   \n4  We are in the beautiful neighborhood of Queen ...  ...                 9.0   \n\n  requires_license license jurisdiction_names instant_bookable  \\\n0                f     NaN         WASHINGTON                f   \n1                f     NaN         WASHINGTON                f   \n2                f     NaN         WASHINGTON                f   \n3                f     NaN         WASHINGTON                f   \n4                f     NaN         WASHINGTON                f   \n\n  cancellation_policy  require_guest_profile_picture  \\\n0            moderate                              f   \n1              strict                              t   \n2              strict                              f   \n3            flexible                              f   \n4              strict                              f   \n\n  require_guest_phone_verification calculated_host_listings_count  \\\n0                                f                              2   \n1                                t                              6   \n2                                f                              2   \n3                                f                              1   \n4                                f                              1   \n\n  reviews_per_month  \n0              4.07  \n1              1.48  \n2              1.15  \n3               NaN  \n4              0.89  \n\n[5 rows x 92 columns]",
      "text/html": "<div>\n<style scoped>\n    .dataframe tbody tr th:only-of-type {\n        vertical-align: middle;\n    }\n\n    .dataframe tbody tr th {\n        vertical-align: top;\n    }\n\n    .dataframe thead th {\n        text-align: right;\n    }\n</style>\n<table border=\"1\" class=\"dataframe\">\n  <thead>\n    <tr style=\"text-align: right;\">\n      <th></th>\n      <th>id</th>\n      <th>listing_url</th>\n      <th>scrape_id</th>\n      <th>last_scraped</th>\n      <th>name</th>\n      <th>summary</th>\n      <th>space</th>\n      <th>description</th>\n      <th>experiences_offered</th>\n      <th>neighborhood_overview</th>\n      <th>...</th>\n      <th>review_scores_value</th>\n      <th>requires_license</th>\n      <th>license</th>\n      <th>jurisdiction_names</th>\n      <th>instant_bookable</th>\n      <th>cancellation_policy</th>\n      <th>require_guest_profile_picture</th>\n      <th>require_guest_phone_verification</th>\n      <th>calculated_host_listings_count</th>\n      <th>reviews_per_month</th>\n    </tr>\n  </thead>\n  <tbody>\n    <tr>\n      <th>0</th>\n      <td>241032</td>\n      <td>https://www.airbnb.com/rooms/241032</td>\n      <td>20160104002432</td>\n      <td>2016-01-04</td>\n      <td>Stylish Queen Anne Apartment</td>\n      <td>NaN</td>\n      <td>Make your self at home in this charming one-be...</td>\n      <td>Make your self at home in this charming one-be...</td>\n      <td>none</td>\n      <td>NaN</td>\n      <td>...</td>\n      <td>10.0</td>\n      <td>f</td>\n      <td>NaN</td>\n      <td>WASHINGTON</td>\n      <td>f</td>\n      <td>moderate</td>\n      <td>f</td>\n      <td>f</td>\n      <td>2</td>\n      <td>4.07</td>\n    </tr>\n    <tr>\n      <th>1</th>\n      <td>953595</td>\n      <td>https://www.airbnb.com/rooms/953595</td>\n      <td>20160104002432</td>\n      <td>2016-01-04</td>\n      <td>Bright &amp; Airy Queen Anne Apartment</td>\n      <td>Chemically sensitive? We've removed the irrita...</td>\n      <td>Beautiful, hypoallergenic apartment in an extr...</td>\n      <td>Chemically sensitive? We've removed the irrita...</td>\n      <td>none</td>\n      <td>Queen Anne is a wonderful, truly functional vi...</td>\n      <td>...</td>\n      <td>10.0</td>\n      <td>f</td>\n      <td>NaN</td>\n      <td>WASHINGTON</td>\n      <td>f</td>\n      <td>strict</td>\n      <td>t</td>\n      <td>t</td>\n      <td>6</td>\n      <td>1.48</td>\n    </tr>\n    <tr>\n      <th>2</th>\n      <td>3308979</td>\n      <td>https://www.airbnb.com/rooms/3308979</td>\n      <td>20160104002432</td>\n      <td>2016-01-04</td>\n      <td>New Modern House-Amazing water view</td>\n      <td>New modern house built in 2013.  Spectacular s...</td>\n      <td>Our house is modern, light and fresh with a wa...</td>\n      <td>New modern house built in 2013.  Spectacular s...</td>\n      <td>none</td>\n      <td>Upper Queen Anne is a charming neighborhood fu...</td>\n      <td>...</td>\n      <td>10.0</td>\n      <td>f</td>\n      <td>NaN</td>\n      <td>WASHINGTON</td>\n      <td>f</td>\n      <td>strict</td>\n      <td>f</td>\n      <td>f</td>\n      <td>2</td>\n      <td>1.15</td>\n    </tr>\n    <tr>\n      <th>3</th>\n      <td>7421966</td>\n      <td>https://www.airbnb.com/rooms/7421966</td>\n      <td>20160104002432</td>\n      <td>2016-01-04</td>\n      <td>Queen Anne Chateau</td>\n      <td>A charming apartment that sits atop Queen Anne...</td>\n      <td>NaN</td>\n      <td>A charming apartment that sits atop Queen Anne...</td>\n      <td>none</td>\n      <td>NaN</td>\n      <td>...</td>\n      <td>NaN</td>\n      <td>f</td>\n      <td>NaN</td>\n      <td>WASHINGTON</td>\n      <td>f</td>\n      <td>flexible</td>\n      <td>f</td>\n      <td>f</td>\n      <td>1</td>\n      <td>NaN</td>\n    </tr>\n    <tr>\n      <th>4</th>\n      <td>278830</td>\n      <td>https://www.airbnb.com/rooms/278830</td>\n      <td>20160104002432</td>\n      <td>2016-01-04</td>\n      <td>Charming craftsman 3 bdm house</td>\n      <td>Cozy family craftman house in beautiful neighb...</td>\n      <td>Cozy family craftman house in beautiful neighb...</td>\n      <td>Cozy family craftman house in beautiful neighb...</td>\n      <td>none</td>\n      <td>We are in the beautiful neighborhood of Queen ...</td>\n      <td>...</td>\n      <td>9.0</td>\n      <td>f</td>\n      <td>NaN</td>\n      <td>WASHINGTON</td>\n      <td>f</td>\n      <td>strict</td>\n      <td>f</td>\n      <td>f</td>\n      <td>1</td>\n      <td>0.89</td>\n    </tr>\n  </tbody>\n</table>\n<p>5 rows × 92 columns</p>\n</div>"
     },
     "execution_count": 3,
     "metadata": {},
     "output_type": "execute_result"
    }
   ],
   "source": [
    "import numpy as np\n",
    "import pandas as pd\n",
    "import matplotlib.pyplot as plt\n",
    "%matplotlib inline\n",
    "\n",
    "df = pd.read_csv('./seattle_airbnb_dataset/listings.csv')\n",
    "df.head()"
   ]
  },
  {
   "cell_type": "markdown",
   "metadata": {
    "pycharm": {
     "name": "#%% md\n"
    }
   },
   "source": [
    "<h3 id='q1'>Seattle Airbnb Open Data: Context</h3>\n",
    "\n",
    "Since 2008, guests and hosts have used Airbnb to travel in a more unique, personalized way. As part of the Airbnb Inside initiative, this dataset describes the listing activity of homestays in Seattle, WA.  This data includes metrics such as the Neighbourhood, property type, number of guests to accommodate, number ofbathrooms and bedrooms, cleaning fee, review score etc.\n",
    "\n",
    "Come up with three questions you are interested in answering.\n"
   ]
  }
 ],
 "metadata": {
  "kernelspec": {
   "display_name": "Python 3",
   "language": "python",
   "name": "python3"
  },
  "language_info": {
   "codemirror_mode": {
    "name": "ipython",
    "version": 3
   },
   "file_extension": ".py",
   "mimetype": "text/x-python",
   "name": "python",
   "nbconvert_exporter": "python",
   "pygments_lexer": "ipython3",
   "version": "3.6.3"
  }
 },
 "nbformat": 4,
 "nbformat_minor": 2
}